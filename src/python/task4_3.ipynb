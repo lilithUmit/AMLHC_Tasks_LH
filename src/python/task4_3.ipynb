{
 "cells": [
  {
   "cell_type": "code",
   "execution_count": 1,
   "metadata": {},
   "outputs": [],
   "source": [
    "import pandas as pd"
   ]
  },
  {
   "cell_type": "markdown",
   "metadata": {},
   "source": [
    "Datensatz laden und verstehen"
   ]
  },
  {
   "cell_type": "code",
   "execution_count": 3,
   "metadata": {},
   "outputs": [
    {
     "name": "stdout",
     "output_type": "stream",
     "text": [
      "(208, 135)\n",
      "Index(['tpsa', 'nbasic', 'negative', 'vsa_hyd', 'a_aro', 'weight',\n",
      "       'peoe_vsa.0', 'peoe_vsa.1', 'peoe_vsa.2', 'peoe_vsa.3',\n",
      "       ...\n",
      "       'ctdh', 'ctaa', 'mchg', 'achg', 'rdta', 'n_sp2', 'n_sp3', 'o_sp2',\n",
      "       'o_sp3', 'logBBB'],\n",
      "      dtype='object', length=135)\n",
      "        tpsa  nbasic  negative    vsa_hyd  a_aro   weight  peoe_vsa.0  \\\n",
      "0  12.030000       1         0  167.06700      0  156.293    76.94749   \n",
      "1  49.330002       0         0   92.64243      6  151.165    38.24339   \n",
      "2  50.529999       1         0  295.16700     15  366.485    58.05473   \n",
      "3  37.389999       0         0  319.11220     15  382.552    62.23933   \n",
      "4  37.389999       1         0  299.65800     12  326.464    74.80064   \n",
      "\n",
      "   peoe_vsa.1  peoe_vsa.2  peoe_vsa.3  ...  ctdh  ctaa    mchg    achg  \\\n",
      "0    43.44619     0.00000    0.000000  ...     1     1  0.9241  0.9241   \n",
      "1    25.52006     0.00000    8.619013  ...     2     2  1.2685  1.0420   \n",
      "2   124.74020    21.65084    8.619013  ...     1     4  1.2562  1.2562   \n",
      "3   124.74020    13.19232   21.785640  ...     1     3  1.1962  1.1962   \n",
      "4   118.04060    33.00190    0.000000  ...     1     3  1.2934  1.2934   \n",
      "\n",
      "     rdta      n_sp2    n_sp3      o_sp2      o_sp3  logBBB  \n",
      "0  1.0000   0.000000   6.0255   0.000000   0.000000    1.08  \n",
      "1  1.0000   0.000000   6.5681  32.010201  33.613499   -0.40  \n",
      "2  0.2500  26.973301  10.8567   0.000000  27.545099    0.22  \n",
      "3  0.3333  21.706499  11.0017   0.000000  15.131600    0.14  \n",
      "4  0.3333  24.206100  10.8109   0.000000  15.133300    0.69  \n",
      "\n",
      "[5 rows x 135 columns]\n"
     ]
    }
   ],
   "source": [
    "df = pd.read_csv('BloodBrain.csv')\n",
    "\n",
    "# Überblick über die Daten\n",
    "print(df.shape)\n",
    "print(df.columns)\n",
    "print(df.head())"
   ]
  },
  {
   "cell_type": "markdown",
   "metadata": {},
   "source": [
    "Datensatz aufteilen mit train_test_split()"
   ]
  },
  {
   "cell_type": "code",
   "execution_count": 4,
   "metadata": {},
   "outputs": [],
   "source": [
    "from sklearn.model_selection import train_test_split\n"
   ]
  },
  {
   "cell_type": "code",
   "execution_count": 5,
   "metadata": {},
   "outputs": [
    {
     "name": "stdout",
     "output_type": "stream",
     "text": [
      "Trainingsdaten: (156, 134) (156,)\n",
      "Testdaten: (52, 134) (52,)\n"
     ]
    }
   ],
   "source": [
    "# Zielvariable festlegen\n",
    "target_column = 'logBBB'\n",
    "\n",
    "# Merkmale (Features) und Zielvariable trennen\n",
    "X = df.drop(columns=[target_column])\n",
    "y = df[target_column]\n",
    "\n",
    "# Aufteilen in Trainings- und Testdaten (75% Training, 25% Test)\n",
    "X_train, X_test, y_train, y_test = train_test_split(X, y, test_size=0.25, random_state=42)\n",
    "\n",
    "# Ausgabe der Formate zur Kontrolle\n",
    "print(\"Trainingsdaten:\", X_train.shape, y_train.shape)\n",
    "print(\"Testdaten:\", X_test.shape, y_test.shape)"
   ]
  }
 ],
 "metadata": {
  "kernelspec": {
   "display_name": ".venv",
   "language": "python",
   "name": "python3"
  },
  "language_info": {
   "codemirror_mode": {
    "name": "ipython",
    "version": 3
   },
   "file_extension": ".py",
   "mimetype": "text/x-python",
   "name": "python",
   "nbconvert_exporter": "python",
   "pygments_lexer": "ipython3",
   "version": "3.13.2"
  }
 },
 "nbformat": 4,
 "nbformat_minor": 2
}
