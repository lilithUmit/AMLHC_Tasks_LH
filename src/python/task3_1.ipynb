{
 "cells": [
  {
   "cell_type": "code",
   "execution_count": 2,
   "metadata": {},
   "outputs": [],
   "source": [
    "import pandas as pd\n",
    "from sklearn.preprocessing import StandardScaler\n"
   ]
  },
  {
   "cell_type": "code",
   "execution_count": 3,
   "metadata": {},
   "outputs": [],
   "source": [
    "#Datensatz laden\n",
    "data = pd.read_csv(\"food.csv\")\n"
   ]
  },
  {
   "cell_type": "code",
   "execution_count": 5,
   "metadata": {},
   "outputs": [
    {
     "name": "stdout",
     "output_type": "stream",
     "text": [
      "       Unnamed: 0  RedMeat  WhiteMeat  Eggs  Milk  Fish  Cereals  Starch  \\\n",
      "0         Albania     10.1        1.4   0.5   8.9   0.2     42.3     0.6   \n",
      "1         Austria      8.9       14.0   4.3  19.9   2.1     28.0     3.6   \n",
      "2         Belgium     13.5        9.3   4.1  17.5   4.5     26.6     5.7   \n",
      "3        Bulgaria      7.8        6.0   1.6   8.3   1.2     56.7     1.1   \n",
      "4  Czechoslovakia      9.7       11.4   2.8  12.5   2.0     34.3     5.0   \n",
      "\n",
      "   Nuts  Fr.Veg  \n",
      "0   5.5     1.7  \n",
      "1   1.3     4.3  \n",
      "2   2.1     4.0  \n",
      "3   3.7     4.2  \n",
      "4   1.1     4.0  \n",
      "Unnamed: 0     object\n",
      "RedMeat       float64\n",
      "WhiteMeat     float64\n",
      "Eggs          float64\n",
      "Milk          float64\n",
      "Fish          float64\n",
      "Cereals       float64\n",
      "Starch        float64\n",
      "Nuts          float64\n",
      "Fr.Veg        float64\n",
      "dtype: object\n"
     ]
    }
   ],
   "source": [
    "# Daten inspizieren\n",
    "print(data.head())\n",
    "print(data.dtypes)"
   ]
  },
  {
   "cell_type": "code",
   "execution_count": 6,
   "metadata": {},
   "outputs": [],
   "source": [
    "#numerische Werte ausschließen\n",
    "numeric_data = data.select_dtypes(include=['number'])"
   ]
  },
  {
   "cell_type": "code",
   "execution_count": 9,
   "metadata": {},
   "outputs": [],
   "source": [
    "from sklearn.preprocessing import StandardScaler"
   ]
  },
  {
   "cell_type": "code",
   "execution_count": 10,
   "metadata": {},
   "outputs": [],
   "source": [
    "# Z-Transformation auf numerischen Daten\n",
    "scaler = StandardScaler()\n",
    "scaled_data = scaler.fit_transform(numeric_data)"
   ]
  },
  {
   "cell_type": "code",
   "execution_count": 11,
   "metadata": {},
   "outputs": [],
   "source": [
    "from sklearn.cluster import KMeans\n",
    "from sklearn.metrics import silhouette_score"
   ]
  },
  {
   "cell_type": "code",
   "execution_count": 12,
   "metadata": {},
   "outputs": [],
   "source": [
    "#KMeans clustering\n",
    "best_score = -1\n",
    "best_k = 2\n",
    "best_model = None"
   ]
  },
  {
   "cell_type": "code",
   "execution_count": 14,
   "metadata": {},
   "outputs": [
    {
     "name": "stdout",
     "output_type": "stream",
     "text": [
      "K=2, Silhouette Score=0.3271\n",
      "K=3, Silhouette Score=0.3352\n",
      "K=4, Silhouette Score=0.2799\n",
      "K=5, Silhouette Score=0.2140\n",
      "Best k: 3\n"
     ]
    }
   ],
   "source": [
    "# Teste K von 2 bis 5\n",
    "for k in range(2, 6):\n",
    "    model = KMeans(n_clusters=k, random_state=42)\n",
    "    labels = model.fit_predict(scaled_data)\n",
    "    score = silhouette_score(scaled_data, labels)\n",
    "    print(f\"K={k}, Silhouette Score={score:.4f}\")\n",
    "    \n",
    "    if score > best_score:\n",
    "        best_score = score\n",
    "        best_k = k\n",
    "        best_model = model\n",
    "\n",
    "print(f\"Best k: {best_k}\")"
   ]
  }
 ],
 "metadata": {
  "kernelspec": {
   "display_name": "Python 3",
   "language": "python",
   "name": "python3"
  },
  "language_info": {
   "codemirror_mode": {
    "name": "ipython",
    "version": 3
   },
   "file_extension": ".py",
   "mimetype": "text/x-python",
   "name": "python",
   "nbconvert_exporter": "python",
   "pygments_lexer": "ipython3",
   "version": "3.13.2"
  }
 },
 "nbformat": 4,
 "nbformat_minor": 2
}
